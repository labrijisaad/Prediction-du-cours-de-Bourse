{
 "cells": [
  {
   "cell_type": "markdown",
   "metadata": {
    "id": "8S0CoCBumKwV"
   },
   "source": [
    "# <p style=\"text-align:center\" color=\"red\"><span style=\"color:red\">Ta-Lib suite of financial data indicators</span></p>"
   ]
  },
  {
   "cell_type": "markdown",
   "metadata": {},
   "source": [
    "<table align=\"center\">\n",
    "  <td>\n",
    "    <a target=\"_blank\" href=\"https://colab.research.google.com/github/labrijisaad/Prediction-du-cours-de-Bourse\"><img src=\"https://www.tensorflow.org/images/colab_logo_32px.png\" />Run in Google Colab</a>\n",
    "  </td>\n",
    "</table>\n",
    "\n",
    "Notebook made by [@labriji_saad](https://www.linkedin.com/in/labrijisaad/) during the data science class."
   ]
  },
  {
   "cell_type": "code",
   "execution_count": 1,
   "metadata": {},
   "outputs": [],
   "source": [
    "%%capture\n",
    "\n",
    "!pip install yfinance\n",
    "!pip install mplfinance"
   ]
  },
  {
   "cell_type": "code",
   "execution_count": 2,
   "metadata": {
    "colab": {
     "base_uri": "https://localhost:8080/",
     "height": 35
    },
    "id": "Dn0N0hgRUGvB",
    "outputId": "b06c10c1-3021-42aa-b47d-5acba72b0889"
   },
   "outputs": [],
   "source": [
    "%%capture\n",
    "\n",
    "import warnings\n",
    "warnings.filterwarnings(\"ignore\")\n",
    "\n",
    "# Data analysis and processing\n",
    "import pandas as pd \n",
    "import numpy as np\n",
    "import matplotlib.pyplot as plt #Chart Drawing Kit\n",
    "import datetime #Time Processing Suite\n",
    "import talib\n",
    "import mplfinance as mpf\n",
    "\n",
    "# WebCrawler\n",
    "import pandas_datareader.data as web\n",
    "import yfinance as yf  # Yahoo Finance\n",
    "\n",
    "# Data normalization \n",
    "from sklearn.preprocessing import MinMaxScaler  \n",
    "\n",
    "\n",
    "# Keras & sklearn imports\n",
    "from keras.models import Sequential\n",
    "from keras.layers import Dense,Dropout,LSTM\n",
    "from keras.callbacks import EarlyStopping\n",
    "\n",
    "\n",
    "from math import sqrt\n",
    "from keras.utils.vis_utils import plot_model   # plot_model \n",
    "from sklearn.metrics import r2_score,mean_absolute_error,mean_squared_error"
   ]
  },
  {
   "cell_type": "code",
   "execution_count": 3,
   "metadata": {
    "colab": {
     "base_uri": "https://localhost:8080/",
     "height": 472
    },
    "id": "jE327Tc3V81x",
    "outputId": "4b7adb0b-b25a-4d6a-c9b1-837b141fa9c6"
   },
   "outputs": [
    {
     "name": "stdout",
     "output_type": "stream",
     "text": [
      "[*********************100%***********************]  1 of 1 completed\n"
     ]
    },
    {
     "data": {
      "text/html": [
       "<div>\n",
       "<style scoped>\n",
       "    .dataframe tbody tr th:only-of-type {\n",
       "        vertical-align: middle;\n",
       "    }\n",
       "\n",
       "    .dataframe tbody tr th {\n",
       "        vertical-align: top;\n",
       "    }\n",
       "\n",
       "    .dataframe thead th {\n",
       "        text-align: right;\n",
       "    }\n",
       "</style>\n",
       "<table border=\"1\" class=\"dataframe\">\n",
       "  <thead>\n",
       "    <tr style=\"text-align: right;\">\n",
       "      <th></th>\n",
       "      <th>Open</th>\n",
       "      <th>High</th>\n",
       "      <th>Low</th>\n",
       "      <th>Close</th>\n",
       "      <th>Adj Close</th>\n",
       "      <th>Volume</th>\n",
       "    </tr>\n",
       "    <tr>\n",
       "      <th>Date</th>\n",
       "      <th></th>\n",
       "      <th></th>\n",
       "      <th></th>\n",
       "      <th></th>\n",
       "      <th></th>\n",
       "      <th></th>\n",
       "    </tr>\n",
       "  </thead>\n",
       "  <tbody>\n",
       "    <tr>\n",
       "      <th>2018-04-02</th>\n",
       "      <td>82.849998</td>\n",
       "      <td>82.949997</td>\n",
       "      <td>82.150002</td>\n",
       "      <td>82.250000</td>\n",
       "      <td>82.250000</td>\n",
       "      <td>3737299</td>\n",
       "    </tr>\n",
       "    <tr>\n",
       "      <th>2018-04-03</th>\n",
       "      <td>81.500000</td>\n",
       "      <td>81.550003</td>\n",
       "      <td>81.199997</td>\n",
       "      <td>81.500000</td>\n",
       "      <td>81.500000</td>\n",
       "      <td>6187523</td>\n",
       "    </tr>\n",
       "    <tr>\n",
       "      <th>2018-04-09</th>\n",
       "      <td>82.150002</td>\n",
       "      <td>82.300003</td>\n",
       "      <td>81.599998</td>\n",
       "      <td>82.199997</td>\n",
       "      <td>82.199997</td>\n",
       "      <td>3401430</td>\n",
       "    </tr>\n",
       "  </tbody>\n",
       "</table>\n",
       "</div>"
      ],
      "text/plain": [
       "                 Open       High        Low      Close  Adj Close   Volume\n",
       "Date                                                                      \n",
       "2018-04-02  82.849998  82.949997  82.150002  82.250000  82.250000  3737299\n",
       "2018-04-03  81.500000  81.550003  81.199997  81.500000  81.500000  6187523\n",
       "2018-04-09  82.150002  82.300003  81.599998  82.199997  82.199997  3401430"
      ]
     },
     "execution_count": 3,
     "metadata": {},
     "output_type": "execute_result"
    }
   ],
   "source": [
    "start = datetime.datetime(2018,4,1) # Set start time\n",
    "end = datetime.datetime(2021,7,30) # Set the end time\n",
    "df = yf.download('0050.TW', start, end) \n",
    "\n",
    "df.head(3)"
   ]
  },
  {
   "cell_type": "code",
   "execution_count": 4,
   "metadata": {
    "colab": {
     "base_uri": "https://localhost:8080/",
     "height": 1000
    },
    "id": "HAYetl54acSZ",
    "outputId": "5aa07d8e-44a6-41af-eb31-32c744c21cfb"
   },
   "outputs": [
    {
     "name": "stdout",
     "output_type": "stream",
     "text": [
      "[*********************100%***********************]  1 of 1 completed\n"
     ]
    },
    {
     "data": {
      "text/html": [
       "<div>\n",
       "<style scoped>\n",
       "    .dataframe tbody tr th:only-of-type {\n",
       "        vertical-align: middle;\n",
       "    }\n",
       "\n",
       "    .dataframe tbody tr th {\n",
       "        vertical-align: top;\n",
       "    }\n",
       "\n",
       "    .dataframe thead th {\n",
       "        text-align: right;\n",
       "    }\n",
       "</style>\n",
       "<table border=\"1\" class=\"dataframe\">\n",
       "  <thead>\n",
       "    <tr style=\"text-align: right;\">\n",
       "      <th></th>\n",
       "      <th>Open</th>\n",
       "      <th>High</th>\n",
       "      <th>Low</th>\n",
       "      <th>Close</th>\n",
       "      <th>Adj Close</th>\n",
       "      <th>Volume</th>\n",
       "    </tr>\n",
       "    <tr>\n",
       "      <th>Date</th>\n",
       "      <th></th>\n",
       "      <th></th>\n",
       "      <th></th>\n",
       "      <th></th>\n",
       "      <th></th>\n",
       "      <th></th>\n",
       "    </tr>\n",
       "  </thead>\n",
       "  <tbody>\n",
       "    <tr>\n",
       "      <th>2022-09-12</th>\n",
       "      <td>115.300003</td>\n",
       "      <td>115.650002</td>\n",
       "      <td>115.000000</td>\n",
       "      <td>115.400002</td>\n",
       "      <td>115.400002</td>\n",
       "      <td>7545318</td>\n",
       "    </tr>\n",
       "    <tr>\n",
       "      <th>2022-09-13</th>\n",
       "      <td>116.099998</td>\n",
       "      <td>116.400002</td>\n",
       "      <td>115.750000</td>\n",
       "      <td>116.000000</td>\n",
       "      <td>116.000000</td>\n",
       "      <td>4540486</td>\n",
       "    </tr>\n",
       "    <tr>\n",
       "      <th>2022-09-14</th>\n",
       "      <td>113.050003</td>\n",
       "      <td>113.949997</td>\n",
       "      <td>112.800003</td>\n",
       "      <td>113.650002</td>\n",
       "      <td>113.650002</td>\n",
       "      <td>10945566</td>\n",
       "    </tr>\n",
       "  </tbody>\n",
       "</table>\n",
       "</div>"
      ],
      "text/plain": [
       "                  Open        High         Low       Close   Adj Close  \\\n",
       "Date                                                                     \n",
       "2022-09-12  115.300003  115.650002  115.000000  115.400002  115.400002   \n",
       "2022-09-13  116.099998  116.400002  115.750000  116.000000  116.000000   \n",
       "2022-09-14  113.050003  113.949997  112.800003  113.650002  113.650002   \n",
       "\n",
       "              Volume  \n",
       "Date                  \n",
       "2022-09-12   7545318  \n",
       "2022-09-13   4540486  \n",
       "2022-09-14  10945566  "
      ]
     },
     "execution_count": 4,
     "metadata": {},
     "output_type": "execute_result"
    }
   ],
   "source": [
    "df2 = yf.download('0050.TW',period='60d',interval='1d') # Specify data collection up to 60 days, frequency is one day\n",
    "df2.head(3)"
   ]
  },
  {
   "cell_type": "code",
   "execution_count": 5,
   "metadata": {
    "colab": {
     "base_uri": "https://localhost:8080/",
     "height": 819
    },
    "id": "YOIHYttZa8t-",
    "outputId": "f528c170-3e66-4eaa-fe9e-ab707fd78811"
   },
   "outputs": [
    {
     "name": "stdout",
     "output_type": "stream",
     "text": [
      "[*********************100%***********************]  1 of 1 completed\n"
     ]
    },
    {
     "data": {
      "text/html": [
       "<div>\n",
       "<style scoped>\n",
       "    .dataframe tbody tr th:only-of-type {\n",
       "        vertical-align: middle;\n",
       "    }\n",
       "\n",
       "    .dataframe tbody tr th {\n",
       "        vertical-align: top;\n",
       "    }\n",
       "\n",
       "    .dataframe thead th {\n",
       "        text-align: right;\n",
       "    }\n",
       "</style>\n",
       "<table border=\"1\" class=\"dataframe\">\n",
       "  <thead>\n",
       "    <tr style=\"text-align: right;\">\n",
       "      <th></th>\n",
       "      <th>Open</th>\n",
       "      <th>High</th>\n",
       "      <th>Low</th>\n",
       "      <th>Close</th>\n",
       "      <th>Adj Close</th>\n",
       "      <th>Volume</th>\n",
       "    </tr>\n",
       "    <tr>\n",
       "      <th>Date</th>\n",
       "      <th></th>\n",
       "      <th></th>\n",
       "      <th></th>\n",
       "      <th></th>\n",
       "      <th></th>\n",
       "      <th></th>\n",
       "    </tr>\n",
       "  </thead>\n",
       "  <tbody>\n",
       "    <tr>\n",
       "      <th>2022-11-07</th>\n",
       "      <td>99.800003</td>\n",
       "      <td>100.849998</td>\n",
       "      <td>99.550003</td>\n",
       "      <td>100.550003</td>\n",
       "      <td>100.550003</td>\n",
       "      <td>12106536</td>\n",
       "    </tr>\n",
       "    <tr>\n",
       "      <th>2022-11-08</th>\n",
       "      <td>101.449997</td>\n",
       "      <td>101.949997</td>\n",
       "      <td>101.250000</td>\n",
       "      <td>101.599998</td>\n",
       "      <td>101.599998</td>\n",
       "      <td>10406422</td>\n",
       "    </tr>\n",
       "    <tr>\n",
       "      <th>2022-11-09</th>\n",
       "      <td>102.550003</td>\n",
       "      <td>104.500000</td>\n",
       "      <td>102.550003</td>\n",
       "      <td>104.500000</td>\n",
       "      <td>104.500000</td>\n",
       "      <td>18911329</td>\n",
       "    </tr>\n",
       "  </tbody>\n",
       "</table>\n",
       "</div>"
      ],
      "text/plain": [
       "                  Open        High         Low       Close   Adj Close  \\\n",
       "Date                                                                     \n",
       "2022-11-07   99.800003  100.849998   99.550003  100.550003  100.550003   \n",
       "2022-11-08  101.449997  101.949997  101.250000  101.599998  101.599998   \n",
       "2022-11-09  102.550003  104.500000  102.550003  104.500000  104.500000   \n",
       "\n",
       "              Volume  \n",
       "Date                  \n",
       "2022-11-07  12106536  \n",
       "2022-11-08  10406422  \n",
       "2022-11-09  18911329  "
      ]
     },
     "execution_count": 5,
     "metadata": {},
     "output_type": "execute_result"
    }
   ],
   "source": [
    "df3 = yf.download('0050.TW',period='1mo',interval='1d') # Specify data collected up to 1 month ago (1mo), frequency is one day\n",
    "df3.head(3)"
   ]
  },
  {
   "cell_type": "code",
   "execution_count": 6,
   "metadata": {
    "colab": {
     "base_uri": "https://localhost:8080/",
     "height": 472
    },
    "id": "n3XHnzfbWzRB",
    "outputId": "fca0604f-7c0e-48af-8582-7808fdeac070"
   },
   "outputs": [
    {
     "name": "stdout",
     "output_type": "stream",
     "text": [
      "[*********************100%***********************]  1 of 1 completed\n"
     ]
    },
    {
     "data": {
      "text/html": [
       "<div>\n",
       "<style scoped>\n",
       "    .dataframe tbody tr th:only-of-type {\n",
       "        vertical-align: middle;\n",
       "    }\n",
       "\n",
       "    .dataframe tbody tr th {\n",
       "        vertical-align: top;\n",
       "    }\n",
       "\n",
       "    .dataframe thead th {\n",
       "        text-align: right;\n",
       "    }\n",
       "</style>\n",
       "<table border=\"1\" class=\"dataframe\">\n",
       "  <thead>\n",
       "    <tr style=\"text-align: right;\">\n",
       "      <th></th>\n",
       "      <th>Open</th>\n",
       "      <th>High</th>\n",
       "      <th>Low</th>\n",
       "      <th>Close</th>\n",
       "      <th>Adj Close</th>\n",
       "      <th>Volume</th>\n",
       "    </tr>\n",
       "    <tr>\n",
       "      <th>Datetime</th>\n",
       "      <th></th>\n",
       "      <th></th>\n",
       "      <th></th>\n",
       "      <th></th>\n",
       "      <th></th>\n",
       "      <th></th>\n",
       "    </tr>\n",
       "  </thead>\n",
       "  <tbody>\n",
       "    <tr>\n",
       "      <th>2022-12-01 09:00:00</th>\n",
       "      <td>119.199997</td>\n",
       "      <td>119.300003</td>\n",
       "      <td>119.099998</td>\n",
       "      <td>119.25</td>\n",
       "      <td>119.25</td>\n",
       "      <td>0</td>\n",
       "    </tr>\n",
       "    <tr>\n",
       "      <th>2022-12-01 09:01:00</th>\n",
       "      <td>119.250000</td>\n",
       "      <td>119.349998</td>\n",
       "      <td>119.250000</td>\n",
       "      <td>119.25</td>\n",
       "      <td>119.25</td>\n",
       "      <td>615000</td>\n",
       "    </tr>\n",
       "    <tr>\n",
       "      <th>2022-12-01 09:02:00</th>\n",
       "      <td>119.250000</td>\n",
       "      <td>119.400002</td>\n",
       "      <td>119.199997</td>\n",
       "      <td>119.25</td>\n",
       "      <td>119.25</td>\n",
       "      <td>594000</td>\n",
       "    </tr>\n",
       "  </tbody>\n",
       "</table>\n",
       "</div>"
      ],
      "text/plain": [
       "                           Open        High         Low   Close  Adj Close  \\\n",
       "Datetime                                                                     \n",
       "2022-12-01 09:00:00  119.199997  119.300003  119.099998  119.25     119.25   \n",
       "2022-12-01 09:01:00  119.250000  119.349998  119.250000  119.25     119.25   \n",
       "2022-12-01 09:02:00  119.250000  119.400002  119.199997  119.25     119.25   \n",
       "\n",
       "                     Volume  \n",
       "Datetime                     \n",
       "2022-12-01 09:00:00       0  \n",
       "2022-12-01 09:01:00  615000  \n",
       "2022-12-01 09:02:00  594000  "
      ]
     },
     "execution_count": 6,
     "metadata": {},
     "output_type": "execute_result"
    }
   ],
   "source": [
    "df4 = yf.download('0050.TW',period='3d',interval='1m') # Specify data collected up to three days ago (3d), at a frequency of one minute\n",
    "df4.head(3)"
   ]
  },
  {
   "cell_type": "code",
   "execution_count": 7,
   "metadata": {
    "colab": {
     "base_uri": "https://localhost:8080/",
     "height": 474
    },
    "id": "MHitev8jkP-X",
    "outputId": "1380cea2-3aee-4706-bd0d-053d1bbe261a"
   },
   "outputs": [
    {
     "data": {
      "image/png": "[encoded data removed]",
      "text/plain": [
       "<Figure size 924.107x431.25 with 4 Axes>"
      ]
     },
     "metadata": {},
     "output_type": "display_data"
    }
   ],
   "source": [
    "#Draw K-line chart\n",
    "mc = mpf.make_marketcolors(up='r', down='g', inherit=True) # Customize chart appearance and set k-line chart colors\n",
    "exterior = mpf.make_mpf_style(base_mpf_style='yahoo', marketcolors=mc) # Save the chart appearance\n",
    "#For detailed settings, please refer to [https://pypi.org/project/mplfinance/]\n",
    "\n",
    "#volume controls whether prices are displayed below\n",
    "k_plot = mpf.plot(df2, style=exterior, type='candle', volume=True, figratio=(30,14), figscale=0.75, title='0050.tw',)"
   ]
  },
  {
   "cell_type": "markdown",
   "metadata": {
    "id": "odARLCydOjxE"
   },
   "source": [
    "# <p style=\"text-align:center\" color=\"red\"><span style=\"color:red\">Ta-Lib Implementation</span></p>\n",
    "\n",
    "＊View category function [ http://mrjbq7.github.io/ta-lib/doc_index.html ]\n",
    "\n",
    "\n",
    "\n",
    "```\n",
    "# You can print(function_list) to see all functions\n",
    "function_list= talib.get_function_groups()\n",
    "# View function categories\n",
    "function_list.keys()\n",
    "```\n",
    "\n"
   ]
  },
  {
   "cell_type": "code",
   "execution_count": 8,
   "metadata": {
    "id": "V-rBv7erO3WL"
   },
   "outputs": [],
   "source": [
    "# Parameter setting: timeperiod: the number of days parameter, you can freely set the number of days, the default is 14\n",
    "\n",
    "_adx = talib.ADX(df.High, df.Low, df.Close, timeperiod = 7)\n",
    "\n",
    "_rsi = talib.RSI(df.Close,  timeperiod = 7)\n",
    "\n",
    "_dema = talib.DEMA(df.Close, timeperiod=30)"
   ]
  },
  {
   "cell_type": "code",
   "execution_count": 9,
   "metadata": {
    "colab": {
     "base_uri": "https://localhost:8080/"
    },
    "id": "ClovyS-SV8Q_",
    "outputId": "828fb438-f679-489e-efb1-48581f2955c3"
   },
   "outputs": [
    {
     "data": {
      "text/plain": [
       "Date\n",
       "2018-04-02          NaN\n",
       "2018-04-03          NaN\n",
       "2018-04-09          NaN\n",
       "2018-04-10          NaN\n",
       "2018-04-11          NaN\n",
       "                ...    \n",
       "2021-07-23    23.930631\n",
       "2021-07-26    25.923251\n",
       "2021-07-27    27.981423\n",
       "2021-07-28    32.696474\n",
       "2021-07-29    34.881715\n",
       "Length: 810, dtype: float64"
      ]
     },
     "execution_count": 9,
     "metadata": {},
     "output_type": "execute_result"
    }
   ],
   "source": [
    "# Average Directional Index (ADX)\n",
    "# ADX above 30 means the price has entered a trend. And below 30 means that the exchange rate is fluctuating within the range. When the ADX exceeds 30, the larger the reading of the ADX, the more pronounced the price trend.\n",
    "_adx"
   ]
  },
  {
   "cell_type": "code",
   "execution_count": 10,
   "metadata": {
    "colab": {
     "base_uri": "https://localhost:8080/"
    },
    "id": "lwOfSWARV-Au",
    "outputId": "b9d49346-5c52-4991-d91d-a438ea64ffd5"
   },
   "outputs": [
    {
     "data": {
      "text/plain": [
       "Date\n",
       "2018-04-02          NaN\n",
       "2018-04-03          NaN\n",
       "2018-04-09          NaN\n",
       "2018-04-10          NaN\n",
       "2018-04-11          NaN\n",
       "                ...    \n",
       "2021-07-23    43.052091\n",
       "2021-07-26    34.833045\n",
       "2021-07-27    34.512735\n",
       "2021-07-28    23.618134\n",
       "2021-07-29    44.866997\n",
       "Length: 810, dtype: float64"
      ]
     },
     "execution_count": 10,
     "metadata": {},
     "output_type": "execute_result"
    }
   ],
   "source": [
    "# Relative Strength Index (RSI)\n",
    "# The value calculated from the average increase and average decrease of a stock price, which is an indicator of the strength or weakness of a stock price during the observation period.\n",
    "# RSI = (average up/(average up + average down)) x 100\n",
    "_rsi "
   ]
  },
  {
   "cell_type": "code",
   "execution_count": 11,
   "metadata": {
    "colab": {
     "base_uri": "https://localhost:8080/"
    },
    "id": "WEI_BzO5L0yS",
    "outputId": "56ab6d0f-f480-4a13-8447-25a64e2c499d"
   },
   "outputs": [
    {
     "data": {
      "text/plain": [
       "Date\n",
       "2018-04-02           NaN\n",
       "2018-04-03           NaN\n",
       "2018-04-09           NaN\n",
       "2018-04-10           NaN\n",
       "2018-04-11           NaN\n",
       "                 ...    \n",
       "2021-07-23    138.904710\n",
       "2021-07-26    138.651695\n",
       "2021-07-27    138.414866\n",
       "2021-07-28    137.930754\n",
       "2021-07-29    137.772730\n",
       "Length: 810, dtype: float64"
      ]
     },
     "execution_count": 11,
     "metadata": {},
     "output_type": "execute_result"
    }
   ],
   "source": [
    "# Double Exponential Moving Average (DEMA)\n",
    "# DEMA = 2 * N-Day EMA - EMA of N-Day EMA \n",
    "_dema "
   ]
  },
  {
   "cell_type": "markdown",
   "metadata": {
    "id": "P7-KsmlUcNhJ"
   },
   "source": [
    "# <p style=\"text-align:center\" color=\"red\"><span style=\"color:red\">Data Processing</span></p>"
   ]
  },
  {
   "cell_type": "code",
   "execution_count": 12,
   "metadata": {
    "id": "JWoCnQgKcL9k"
   },
   "outputs": [],
   "source": [
    "# axis = 0 for Down , axis = 1 for across\n",
    "# inplace = True means operate directly from the DataFrame \n",
    "df.drop(['Open', 'High', 'Low', 'Volume','Adj Close'], axis=1, inplace=True) "
   ]
  },
  {
   "cell_type": "code",
   "execution_count": 13,
   "metadata": {
    "colab": {
     "base_uri": "https://localhost:8080/",
     "height": 455
    },
    "id": "C40IiV4ietMq",
    "outputId": "533df24a-b68a-489c-88ca-7083c28259e1"
   },
   "outputs": [
    {
     "data": {
      "text/html": [
       "<div>\n",
       "<style scoped>\n",
       "    .dataframe tbody tr th:only-of-type {\n",
       "        vertical-align: middle;\n",
       "    }\n",
       "\n",
       "    .dataframe tbody tr th {\n",
       "        vertical-align: top;\n",
       "    }\n",
       "\n",
       "    .dataframe thead th {\n",
       "        text-align: right;\n",
       "    }\n",
       "</style>\n",
       "<table border=\"1\" class=\"dataframe\">\n",
       "  <thead>\n",
       "    <tr style=\"text-align: right;\">\n",
       "      <th></th>\n",
       "      <th>Close</th>\n",
       "    </tr>\n",
       "    <tr>\n",
       "      <th>Date</th>\n",
       "      <th></th>\n",
       "    </tr>\n",
       "  </thead>\n",
       "  <tbody>\n",
       "    <tr>\n",
       "      <th>2018-04-02</th>\n",
       "      <td>82.250000</td>\n",
       "    </tr>\n",
       "    <tr>\n",
       "      <th>2018-04-03</th>\n",
       "      <td>81.500000</td>\n",
       "    </tr>\n",
       "    <tr>\n",
       "      <th>2018-04-09</th>\n",
       "      <td>82.199997</td>\n",
       "    </tr>\n",
       "  </tbody>\n",
       "</table>\n",
       "</div>"
      ],
      "text/plain": [
       "                Close\n",
       "Date                 \n",
       "2018-04-02  82.250000\n",
       "2018-04-03  81.500000\n",
       "2018-04-09  82.199997"
      ]
     },
     "execution_count": 13,
     "metadata": {},
     "output_type": "execute_result"
    }
   ],
   "source": [
    "df.head(3)"
   ]
  },
  {
   "cell_type": "markdown",
   "metadata": {},
   "source": [
    "Q : Diviser le dataset df en 80% d'entrainement et 20% de test "
   ]
  },
  {
   "cell_type": "code",
   "execution_count": 14,
   "metadata": {
    "colab": {
     "base_uri": "https://localhost:8080/",
     "height": 35
    },
    "id": "QTTi8be2fxPT",
    "outputId": "cce16727-688b-474e-81f3-6533c51c5fa2"
   },
   "outputs": [
    {
     "data": {
      "text/plain": [
       "\"\\nsplit_date = pd.Timestamp('2020-11-26') #Taiwan's entire country is on Level 3 alert\\ntrain = df.loc[:split_date]\\ntest1 = df.loc[split_date:]\\n\""
      ]
     },
     "execution_count": 14,
     "metadata": {},
     "output_type": "execute_result"
    }
   ],
   "source": [
    "split_point = int(len(df)*0.8) # Divide the df dataset into 80% training and 20% testing\n",
    "train = df.iloc[:split_point].copy()\n",
    "test = df.iloc[split_point:].copy()\n",
    "\n",
    "# You can also cut by date\n",
    "'''\n",
    "split_date = pd.Timestamp('2020-11-26') #Taiwan's entire country is on Level 3 alert\n",
    "train = df.loc[:split_date]\n",
    "test1 = df.loc[split_date:]\n",
    "'''"
   ]
  },
  {
   "cell_type": "code",
   "execution_count": 15,
   "metadata": {
    "id": "ub262gulfVu8"
   },
   "outputs": [],
   "source": [
    "# Data normalization\n",
    "scaler = MinMaxScaler(feature_range=(-1, 1))\n",
    "\n",
    "#If the data is not one-dimensional, we need to reshape the data and adjust it to (data length,1) \n",
    "\n",
    "train_set= train.values.reshape(-1,1)\n",
    "train_sc = scaler.fit_transform(train_set)\n",
    "\n",
    "test_set= test.values.reshape(-1,1)\n",
    "test_sc = scaler.fit_transform(test_set)"
   ]
  },
  {
   "cell_type": "code",
   "execution_count": 16,
   "metadata": {
    "id": "UsPEZa3pi6qO"
   },
   "outputs": [],
   "source": [
    "predict_days = 1 \n",
    "X_train = train_sc[:-predict_days]\n",
    "y_train = train_sc[predict_days:]\n",
    "X_test = test_sc[:-predict_days]\n",
    "y_test = test_sc[predict_days:]"
   ]
  },
  {
   "cell_type": "code",
   "execution_count": 17,
   "metadata": {
    "colab": {
     "base_uri": "https://localhost:8080/"
    },
    "id": "SB8lZ-AzkNmg",
    "outputId": "195b9bd7-8294-4a1b-8c91-b3d5b2f5b60c"
   },
   "outputs": [
    {
     "name": "stdout",
     "output_type": "stream",
     "text": [
      "(647, 1, 1) (647, 1) (161, 1, 1) (161, 1)\n"
     ]
    }
   ],
   "source": [
    "#Verify the shape of the dataset, it's important! \n",
    "#You can tell others the size of the training set and the dataset\n",
    "X_train = X_train.reshape((X_train.shape[0],1, X_train.shape[1]))\n",
    "X_test = X_test.reshape((X_test.shape[0],1, X_test.shape[1]))\n",
    "print(X_train.shape, y_train.shape, X_test.shape, y_test.shape)"
   ]
  },
  {
   "cell_type": "markdown",
   "metadata": {
    "id": "97_mO7Geibc1"
   },
   "source": [
    "# <p style=\"text-align:center\" color=\"red\"><span style=\"color:red\">Build the model</span></p>\n",
    "\n",
    "> Model fit tunable parameters.\n",
    ">- **epochs** (iterations): number of training sessions \n",
    ">- **batch_size** : how many data are entered at a time  \n",
    ">- **verbose** (progress bar mode): 0, 1, 2 modes to choose from\n",
    ">- **callbacks** (callback function): refer to this page [https://keras.io/zh/callbacks/]"
   ]
  },
  {
   "cell_type": "code",
   "execution_count": 18,
   "metadata": {
    "colab": {
     "base_uri": "https://localhost:8080/"
    },
    "id": "qr-0r8p6kTJe",
    "outputId": "219a6f04-5a04-4701-836e-2880120d93b1"
   },
   "outputs": [
    {
     "name": "stdout",
     "output_type": "stream",
     "text": [
      "Epoch 1/20\n",
      "647/647 - 2s - loss: 0.0375 - accuracy: 0.0031 - 2s/epoch - 3ms/step\n",
      "Epoch 2/20\n",
      "647/647 - 1s - loss: 0.0038 - accuracy: 0.0031 - 639ms/epoch - 988us/step\n",
      "Epoch 3/20\n",
      "647/647 - 1s - loss: 0.0035 - accuracy: 0.0031 - 617ms/epoch - 954us/step\n",
      "Epoch 4/20\n",
      "647/647 - 1s - loss: 0.0034 - accuracy: 0.0031 - 648ms/epoch - 1ms/step\n",
      "Epoch 5/20\n",
      "647/647 - 1s - loss: 0.0033 - accuracy: 0.0031 - 616ms/epoch - 953us/step\n",
      "Epoch 6/20\n",
      "647/647 - 1s - loss: 0.0031 - accuracy: 0.0031 - 621ms/epoch - 959us/step\n",
      "Epoch 7/20\n",
      "647/647 - 1s - loss: 0.0032 - accuracy: 0.0031 - 605ms/epoch - 935us/step\n",
      "Epoch 8/20\n",
      "647/647 - 1s - loss: 0.0032 - accuracy: 0.0031 - 607ms/epoch - 938us/step\n",
      "Epoch 8: early stopping\n"
     ]
    }
   ],
   "source": [
    "# Build LSTM model\n",
    "lstm_model = Sequential()\n",
    "\n",
    "#LSTM : neurons (units) \n",
    "lstm_model.add(LSTM(units=50, return_sequences=False, input_shape=(X_train.shape[1],1)))\n",
    "\n",
    "# Forgetting layer : Dropout forgetting rate can be adjusted\n",
    "lstm_model.add(Dropout(0.2))\n",
    "\n",
    "# Output layer : Number of output data\n",
    "lstm_model.add(Dense(1))\n",
    "\n",
    "#loss : Loss function\n",
    "#optimizer : Optimizer\n",
    "#metrics : Evaluation metrics\n",
    "#The rest of the function settings can be found at [ https://www.tensorflow.org/api_docs/python/tf/keras/Model ]\n",
    "\n",
    "lstm_model.compile(loss='mean_squared_error', optimizer='adam',metrics=['accuracy'])\n",
    "\n",
    "#Use EarlyStopping to avoid wasting time\n",
    "early_stop = EarlyStopping(monitor='loss', patience=2, verbose=1)\n",
    "\n",
    "history_lstm_model = lstm_model.fit(X_train, y_train, epochs=20, batch_size=1, verbose=2, shuffle=True, callbacks=[early_stop])"
   ]
  },
  {
   "cell_type": "markdown",
   "metadata": {
    "id": "O6y0_BD2ws5v"
   },
   "source": [
    "# <p style=\"text-align:center\" color=\"red\"><span style=\"color:red\">Model training visualization</span></p>"
   ]
  },
  {
   "cell_type": "code",
   "execution_count": 19,
   "metadata": {
    "colab": {
     "base_uri": "https://localhost:8080/"
    },
    "id": "5nhUSM4zRkrq",
    "outputId": "d2d1db5a-9e13-4da6-b2fd-eba3f3a255f5"
   },
   "outputs": [
    {
     "name": "stdout",
     "output_type": "stream",
     "text": [
      "Model: \"sequential\"\n",
      "_________________________________________________________________\n",
      " Layer (type)                Output Shape              Param #   \n",
      "=================================================================\n",
      " lstm (LSTM)                 (None, 50)                10400     \n",
      "                                                                 \n",
      " dropout (Dropout)           (None, 50)                0         \n",
      "                                                                 \n",
      " dense (Dense)               (None, 1)                 51        \n",
      "                                                                 \n",
      "=================================================================\n",
      "Total params: 10,451\n",
      "Trainable params: 10,451\n",
      "Non-trainable params: 0\n",
      "_________________________________________________________________\n"
     ]
    }
   ],
   "source": [
    "lstm_model.summary()"
   ]
  },
  {
   "cell_type": "code",
   "execution_count": 20,
   "metadata": {
    "colab": {
     "base_uri": "https://localhost:8080/",
     "height": 369
    },
    "id": "JzfmjMsNRsYj",
    "outputId": "eab059b8-bb57-49a5-ef38-355646b6b8b5"
   },
   "outputs": [
    {
     "data": {
      "image/png": "[encoded data removed]",
      "text/plain": [
       "<IPython.core.display.Image object>"
      ]
     },
     "execution_count": 20,
     "metadata": {},
     "output_type": "execute_result"
    }
   ],
   "source": [
    "plot_model(lstm_model, 'model.png')"
   ]
  },
  {
   "cell_type": "code",
   "execution_count": 21,
   "metadata": {
    "colab": {
     "base_uri": "https://localhost:8080/",
     "height": 447
    },
    "id": "uZciZ4EruQqi",
    "outputId": "9e65cfc6-9457-4b00-dee5-3f5d999bd838"
   },
   "outputs": [
    {
     "data": {
      "text/plain": [
       "[<matplotlib.lines.Line2D at 0x1d7fff22940>]"
      ]
     },
     "execution_count": 21,
     "metadata": {},
     "output_type": "execute_result"
    },
    {
     "data": {
      "image/png": "[encoded data removed]",
      "text/plain": [
       "<Figure size 640x480 with 1 Axes>"
      ]
     },
     "metadata": {},
     "output_type": "display_data"
    }
   ],
   "source": [
    "plt.plot(history_lstm_model.history['loss'])"
   ]
  },
  {
   "cell_type": "code",
   "execution_count": 22,
   "metadata": {
    "colab": {
     "base_uri": "https://localhost:8080/",
     "height": 447
    },
    "id": "I84RoQxxvTiC",
    "outputId": "365f7432-26ca-4105-b5ad-58d252541220"
   },
   "outputs": [
    {
     "data": {
      "text/plain": [
       "[<matplotlib.lines.Line2D at 0x1d7fff829a0>]"
      ]
     },
     "execution_count": 22,
     "metadata": {},
     "output_type": "execute_result"
    },
    {
     "data": {
      "image/png": "[encoded data removed]",
      "text/plain": [
       "<Figure size 640x480 with 1 Axes>"
      ]
     },
     "metadata": {},
     "output_type": "display_data"
    }
   ],
   "source": [
    "plt.plot(history_lstm_model.history['accuracy'])"
   ]
  },
  {
   "cell_type": "markdown",
   "metadata": {
    "id": "a7kNCuauwxIg"
   },
   "source": [
    "# <p style=\"text-align:center\" color=\"red\"><span style=\"color:red\">Model Prediction</span></p>"
   ]
  },
  {
   "cell_type": "code",
   "execution_count": 23,
   "metadata": {
    "colab": {
     "base_uri": "https://localhost:8080/",
     "height": 564
    },
    "id": "ATto2DLWkX3G",
    "outputId": "7a402159-a04c-4b81-ef9f-0c8b3b9c251b"
   },
   "outputs": [
    {
     "name": "stdout",
     "output_type": "stream",
     "text": [
      "6/6 [==============================] - 0s 2ms/step\n"
     ]
    },
    {
     "data": {
      "image/png": "[encoded data removed]",
      "text/plain": [
       "<Figure size 800x400 with 1 Axes>"
      ]
     },
     "metadata": {},
     "output_type": "display_data"
    }
   ],
   "source": [
    "y_pred_test_lstm = lstm_model.predict(X_test) #Predict\n",
    "plt.figure(figsize=(8, 4))\n",
    "plt.plot(y_test[:,0], label='Close')\n",
    "plt.plot(y_pred_test_lstm, label='LSTM')\n",
    "plt.title(\"LSTM's Prediction\")\n",
    "plt.xlabel('Observation')\n",
    "plt.ylabel('Close')\n",
    "plt.legend()\n",
    "plt.show();"
   ]
  },
  {
   "cell_type": "code",
   "execution_count": 24,
   "metadata": {
    "id": "uQevnySYl52H"
   },
   "outputs": [],
   "source": [
    "# Restore the normalized data\n",
    "reduction_Lstm_pred = scaler.inverse_transform(y_pred_test_lstm)\n",
    "reduction_test = df.iloc[split_point:].copy()\n",
    "reduction_y_test = reduction_test[predict_days:]"
   ]
  },
  {
   "cell_type": "markdown",
   "metadata": {},
   "source": [
    "# <p style=\"text-align:center\" color=\"red\"><span style=\"color:red\">Modele evaluation</span></p>"
   ]
  },
  {
   "cell_type": "markdown",
   "metadata": {},
   "source": [
    "> There are three error metrics that are commonly used for evaluating and reporting the performance of a regression model; they are: \n",
    "\n",
    ">- **Mean Squared Error** (MSE). \n",
    ">- **Root Mean Squared Error** (RMSE). \n",
    ">- **Mean Absolute Error** (MAE)"
   ]
  },
  {
   "cell_type": "code",
   "execution_count": 25,
   "metadata": {
    "colab": {
     "base_uri": "https://localhost:8080/"
    },
    "id": "6f1uRm5ul7nr",
    "outputId": "e90d6c0b-56ba-4b01-c6a1-a0784bf9a884",
    "scrolled": true
   },
   "outputs": [
    {
     "name": "stdout",
     "output_type": "stream",
     "text": [
      "Mean Absolute Error: 1.2518793899820457\n",
      "Mean Squared Error: 2.898456343312268\n",
      "Root Mean Squared Error: 1.7024853430535805\n",
      "Coefficient of Determination: 0.9439186962991296\n"
     ]
    }
   ],
   "source": [
    "print(\"Mean Absolute Error:\", mean_absolute_error(reduction_y_test, reduction_Lstm_pred))\n",
    "print('Mean Squared Error:', mean_squared_error(reduction_y_test, reduction_Lstm_pred))\n",
    "print('Root Mean Squared Error:', sqrt(mean_squared_error(reduction_y_test, reduction_Lstm_pred)))\n",
    "print(\"Coefficient of Determination:\", r2_score(reduction_y_test, reduction_Lstm_pred))"
   ]
  },
  {
   "cell_type": "markdown",
   "metadata": {},
   "source": [
    "Notebook made by [@labriji_saad](https://www.linkedin.com/in/labrijisaad/) during the data science class."
   ]
  }
 ],
 "metadata": {
  "accelerator": "GPU",
  "colab": {
   "collapsed_sections": [],
   "name": "股市資料爬蟲 + LSTM預測.ipynb",
   "provenance": []
  },
  "kernelspec": {
   "display_name": "Python 3 (ipykernel)",
   "language": "python",
   "name": "python3"
  },
  "language_info": {
   "codemirror_mode": {
    "name": "ipython",
    "version": 3
   },
   "file_extension": ".py",
   "mimetype": "text/x-python",
   "name": "python",
   "nbconvert_exporter": "python",
   "pygments_lexer": "ipython3",
   "version": "3.9.7"
  }
 },
 "nbformat": 4,
 "nbformat_minor": 1
}
